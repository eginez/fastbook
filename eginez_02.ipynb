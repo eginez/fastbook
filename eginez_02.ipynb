{
  "nbformat": 4,
  "nbformat_minor": 0,
  "metadata": {
    "colab": {
      "name": "eginez_02.ipynb",
      "provenance": [],
      "authorship_tag": "ABX9TyPYkXYl442u/HSfSH1hsPry"
    },
    "kernelspec": {
      "name": "python3",
      "display_name": "Python 3"
    },
    "language_info": {
      "name": "python"
    }
  },
  "cells": [
    {
      "cell_type": "code",
      "metadata": {
        "colab": {
          "base_uri": "https://localhost:8080/"
        },
        "id": "kTwnqQxRU4Y3",
        "outputId": "2c73d261-5c82-4a47-b7b9-05f059f8ff1f"
      },
      "source": [
        "!pip install requests\n",
        "!pip install -Uqq fastbook\n",
        "\n"
      ],
      "execution_count": 21,
      "outputs": [
        {
          "output_type": "stream",
          "text": [
            "Requirement already satisfied: requests in /usr/local/lib/python3.7/dist-packages (2.23.0)\n",
            "Requirement already satisfied: certifi>=2017.4.17 in /usr/local/lib/python3.7/dist-packages (from requests) (2021.5.30)\n",
            "Requirement already satisfied: chardet<4,>=3.0.2 in /usr/local/lib/python3.7/dist-packages (from requests) (3.0.4)\n",
            "Requirement already satisfied: idna<3,>=2.5 in /usr/local/lib/python3.7/dist-packages (from requests) (2.10)\n",
            "Requirement already satisfied: urllib3!=1.25.0,!=1.25.1,<1.26,>=1.21.1 in /usr/local/lib/python3.7/dist-packages (from requests) (1.24.3)\n",
            "\u001b[K     |████████████████████████████████| 727kB 7.8MB/s \n",
            "\u001b[K     |████████████████████████████████| 1.2MB 15.8MB/s \n",
            "\u001b[K     |████████████████████████████████| 194kB 40.5MB/s \n",
            "\u001b[K     |████████████████████████████████| 51kB 7.9MB/s \n",
            "\u001b[K     |████████████████████████████████| 61kB 10.1MB/s \n",
            "\u001b[K     |████████████████████████████████| 61kB 11.0MB/s \n",
            "\u001b[?25h"
          ],
          "name": "stdout"
        }
      ]
    },
    {
      "cell_type": "code",
      "metadata": {
        "id": "YpiUqPm5UBvP"
      },
      "source": [
        "import requests\n",
        "import fastbook\n",
        "from fastbook import *\n",
        "\n",
        "def isearch_images_ddg(key,max_n=200):\n",
        "     \"\"\"Search for 'key' with DuckDuckGo and return a unique urls of 'max_n' images\n",
        "        (Adopted from https://github.com/deepanprabhu/duckduckgo-images-api)\n",
        "     \"\"\"\n",
        "     url        = 'https://duckduckgo.com/'\n",
        "     params     = {'q':key}\n",
        "     res        = requests.post(url,data=params)\n",
        "     searchObj  = re.search(r'vqd=([\\d-]+)\\&',res.text)\n",
        "     if not searchObj: print('Token Parsing Failed !'); return\n",
        "     requestUrl = url + 'i.js'\n",
        "     headers    = {'User-Agent': 'Mozilla/5.0 (X11; Ubuntu; Linux x86_64; rv:71.0) Gecko/20100101 Firefox/71.0'}\n",
        "     params     = (('l','us-en'),('o','json'),('q',key),('vqd',searchObj.group(1)),('f',',,,'),('p','1'),('v7exp','a'))\n",
        "     urls       = []\n",
        "     while True:\n",
        "         try:\n",
        "             res  = requests.get(requestUrl,headers=headers,params=params)\n",
        "             data = json.loads(res.text)\n",
        "             for obj in data['results']:\n",
        "                 urls.append(obj['image'])\n",
        "                 max_n = max_n - 1\n",
        "                 if max_n < 1: return L(set(urls))     # dedupe\n",
        "             if 'next' not in data: return L(set(urls))\n",
        "             requestUrl = url + data['next']\n",
        "         except:\n",
        "             pass\n"
      ],
      "execution_count": 71,
      "outputs": []
    },
    {
      "cell_type": "code",
      "metadata": {
        "id": "g_BFkGs9XPjA"
      },
      "source": [
        ""
      ],
      "execution_count": 47,
      "outputs": []
    },
    {
      "cell_type": "code",
      "metadata": {
        "colab": {
          "base_uri": "https://localhost:8080/"
        },
        "id": "uVqOdxwSYaa4",
        "outputId": "aa3d7fab-8097-4975-9625-039e82df74bc"
      },
      "source": [
        "imgs = isearch_images_ddg('audi a4')\n",
        "print(imgs[0])\n"
      ],
      "execution_count": 72,
      "outputs": [
        {
          "output_type": "stream",
          "text": [
            "DEBUG:urllib3.connectionpool:Starting new HTTPS connection (1): duckduckgo.com:443\n",
            "DEBUG:urllib3.connectionpool:https://duckduckgo.com:443 \"POST / HTTP/1.1\" 200 None\n",
            "DEBUG:urllib3.connectionpool:Starting new HTTPS connection (1): duckduckgo.com:443\n",
            "DEBUG:urllib3.connectionpool:https://duckduckgo.com:443 \"GET /i.js?l=us-en&o=json&q=audi+a4&vqd=3-210197131272520080833058989502778205517-48423183073639392108151138318006138892&f=%2C%2C%2C&p=1&v7exp=a HTTP/1.1\" 200 None\n",
            "DEBUG:urllib3.connectionpool:Starting new HTTPS connection (1): duckduckgo.com:443\n",
            "DEBUG:urllib3.connectionpool:https://duckduckgo.com:443 \"GET /i.js?q=audi%20a4&o=json&p=1&s=100&u=bing&f=,,,&l=us-en&l=us-en&o=json&q=audi+a4&vqd=3-210197131272520080833058989502778205517-48423183073639392108151138318006138892&f=%2C%2C%2C&p=1&v7exp=a HTTP/1.1\" 200 None\n"
          ],
          "name": "stderr"
        },
        {
          "output_type": "stream",
          "text": [
            "https://cdn.carbuzz.com/gallery-images/2021-audi-a4-sedan-view-out-back-carbuzz-692470.jpg\n"
          ],
          "name": "stdout"
        }
      ]
    },
    {
      "cell_type": "code",
      "metadata": {
        "colab": {
          "base_uri": "https://localhost:8080/",
          "height": 173
        },
        "id": "DqPOR5MQYul5",
        "outputId": "9e4750d9-1d21-4728-9d31-72100b40352d"
      },
      "source": [
        "dest = 'a4.jpg'\n",
        "download_url(imgs[0], dest, overwrite=True)\n",
        "im = Image.open(dest)\n",
        "im.to_thumb(128, 128)"
      ],
      "execution_count": 73,
      "outputs": [
        {
          "output_type": "stream",
          "text": [
            "DEBUG:urllib3.util.retry:Converted retries value: 5 -> Retry(total=5, connect=None, read=None, redirect=None, status=None)\n",
            "DEBUG:urllib3.connectionpool:Starting new HTTPS connection (1): cdn.carbuzz.com:443\n",
            "DEBUG:urllib3.connectionpool:https://cdn.carbuzz.com:443 \"GET /gallery-images/2021-audi-a4-sedan-view-out-back-carbuzz-692470.jpg HTTP/1.1\" 200 75645\n"
          ],
          "name": "stderr"
        },
        {
          "output_type": "display_data",
          "data": {
            "text/html": [
              ""
            ],
            "text/plain": [
              "<IPython.core.display.HTML object>"
            ]
          },
          "metadata": {
            "tags": []
          }
        },
        {
          "output_type": "execute_result",
          "data": {
            "image/png": "[encoded data removed]",
            "text/plain": [
              "<PIL.Image.Image image mode=RGB size=128x85 at 0x7F664F0BE9D0>"
            ]
          },
          "metadata": {
            "tags": []
          },
          "execution_count": 73
        }
      ]
    },
    {
      "cell_type": "code",
      "metadata": {
        "id": "AY_rW55EacsN"
      },
      "source": [
        ""
      ],
      "execution_count": null,
      "outputs": []
    }
  ]
}